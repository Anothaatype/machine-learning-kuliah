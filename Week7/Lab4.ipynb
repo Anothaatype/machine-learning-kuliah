{
 "cells": [
  {
   "cell_type": "markdown",
   "id": "7f738f1f",
   "metadata": {},
   "source": [
    "## Import Libraries"
   ]
  },
  {
   "cell_type": "code",
   "execution_count": 3,
   "id": "71e3447d",
   "metadata": {},
   "outputs": [],
   "source": [
    "\n",
    "import numpy as np\n",
    "import time\n",
    "from annoy import AnnoyIndex\n",
    "import faiss\n",
    "import hnswlib"
   ]
  },
  {
   "cell_type": "markdown",
   "id": "15a23c39",
   "metadata": {},
   "source": [
    "## Comparing ANNOY - FAIIS - HNSW "
   ]
  },
  {
   "cell_type": "code",
   "execution_count": null,
   "id": "e3f7cb4a",
   "metadata": {},
   "outputs": [
    {
     "ename": "",
     "evalue": "",
     "output_type": "error",
     "traceback": [
      "\u001b[1;31mThe Kernel crashed while executing code in the current cell or a previous cell. \n",
      "\u001b[1;31mPlease review the code in the cell(s) to identify a possible cause of the failure. \n",
      "\u001b[1;31mClick <a href='https://aka.ms/vscodeJupyterKernelCrash'>here</a> for more info. \n",
      "\u001b[1;31mView Jupyter <a href='command:jupyter.viewOutput'>log</a> for further details."
     ]
    }
   ],
   "source": [
    "# ===============================\n",
    "# Build 1mio rows with 5D\n",
    "# ===============================\n",
    "n_data = 1_000_000  # try 100_000 if you have limited memory\n",
    "dim = 5\n",
    "X = np.random.random((n_data, dim)).astype(np.float32)\n",
    "\n",
    "# Query point\n",
    "query = np.random.random((1, dim)).astype(np.float32)\n",
    "k = 10\n"
   ]
  },
  {
   "cell_type": "code",
   "execution_count": null,
   "id": "fee1533e",
   "metadata": {},
   "outputs": [
    {
     "name": "stdout",
     "output_type": "stream",
     "text": [
      "=== Annoy ===\n"
     ]
    }
   ],
   "source": [
    "# ===============================\n",
    "# 2. Annoy\n",
    "# ===============================\n",
    "print(\"=== Annoy ===\")\n",
    "ann_index = AnnoyIndex(dim, \"euclidean\")\n",
    "\n",
    "start = time.time()\n",
    "for i in range(n_data):\n",
    "    ann_index.add_item(i, X[i])\n",
    "ann_index.build(10)  # 10 trees\n",
    "build_time = time.time() - start\n",
    "\n",
    "start = time.time()\n",
    "neighbors = ann_index.get_nns_by_vector(query[0], k, include_distances=True)\n",
    "query_time = time.time() - start\n",
    "\n",
    "print(\"Build time:\", build_time, \"detik\")\n",
    "print(\"Query time:\", query_time, \"detik\")\n",
    "print(\"Neighbors:\", neighbors[0][:5], \"...\")\n"
   ]
  },
  {
   "cell_type": "code",
   "execution_count": null,
   "id": "85459ca6",
   "metadata": {},
   "outputs": [],
   "source": [
    "# ===============================\n",
    "# 3. FAISS (Flat Index)\n",
    "# ===============================\n",
    "print(\"\\n=== FAISS (IndexFlatL2) ===\")\n",
    "faiss_index = faiss.IndexFlatL2(dim)\n",
    "\n",
    "start = time.time()\n",
    "faiss_index.add(X)\n",
    "build_time = time.time() - start\n",
    "\n",
    "start = time.time()\n",
    "distances, indices = faiss_index.search(query, k)\n",
    "query_time = time.time() - start\n",
    "\n",
    "print(\"Build time:\", build_time, \"detik\")\n",
    "print(\"Query time:\", query_time, \"detik\")\n",
    "print(\"Neighbors:\", indices[0][:5], \"...\")"
   ]
  },
  {
   "cell_type": "code",
   "execution_count": null,
   "id": "0001d56c",
   "metadata": {},
   "outputs": [],
   "source": [
    "# ===============================\n",
    "# 4. HNSW (hnswlib)\n",
    "# ===============================\n",
    "print(\"\\n=== HNSW (hnswlib) ===\")\n",
    "hnsw_index = hnswlib.Index(space=\"l2\", dim=dim)\n",
    "\n",
    "start = time.time()\n",
    "hnsw_index.init_index(max_elements=n_data, ef_construction=200, M=16)\n",
    "hnsw_index.add_items(X)\n",
    "build_time = time.time() - start\n",
    "\n",
    "hnsw_index.set_ef(50)\n",
    "\n",
    "start = time.time()\n",
    "labels, distances = hnsw_index.knn_query(query, k=k)\n",
    "query_time = time.time() - start\n",
    "\n",
    "print(\"Build time:\", build_time, \"detik\")\n",
    "print(\"Query time:\", query_time, \"detik\")\n",
    "print(\"Neighbors:\", labels[0][:5], \"...\")\n"
   ]
  }
 ],
 "metadata": {
  "kernelspec": {
   "display_name": "machine-learning-kuliah",
   "language": "python",
   "name": "python3"
  },
  "language_info": {
   "codemirror_mode": {
    "name": "ipython",
    "version": 3
   },
   "file_extension": ".py",
   "mimetype": "text/x-python",
   "name": "python",
   "nbconvert_exporter": "python",
   "pygments_lexer": "ipython3",
   "version": "3.13.5"
  }
 },
 "nbformat": 4,
 "nbformat_minor": 5
}
