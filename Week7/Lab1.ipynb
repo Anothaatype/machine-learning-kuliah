{
 "cells": [
  {
   "cell_type": "markdown",
   "id": "b1ce3fcd",
   "metadata": {},
   "source": [
    "## Step 1 - Import Library"
   ]
  },
  {
   "cell_type": "code",
   "execution_count": 2,
   "id": "32902d3b",
   "metadata": {},
   "outputs": [],
   "source": [
    "# Import Library\n",
    "import numpy as np\n",
    "import matplotlib.pyplot as plt\n",
    "import time\n",
    "\n",
    "from annoy import AnnoyIndex\n"
   ]
  },
  {
   "cell_type": "markdown",
   "id": "9df0f7b3",
   "metadata": {},
   "source": [
    "## Step 2 - Create a Dummy Dataset"
   ]
  },
  {
   "cell_type": "code",
   "execution_count": 3,
   "id": "49f7b7e3",
   "metadata": {},
   "outputs": [],
   "source": [
    "# Build Random Dataset and Query Point\n",
    "np.random.seed(42)\n",
    "n_points = 1000\n",
    "X = np.random.rand(n_points, 2) * 100  # random value at 100x100 space\n",
    "\n",
    "# Query point (pick 1 random data point)\n",
    "query = X[np.random.randint(0, n_points)]\n"
   ]
  },
  {
   "cell_type": "markdown",
   "id": "e2b709df",
   "metadata": {},
   "source": [
    "## Step 3 - Exact NN"
   ]
  },
  {
   "cell_type": "code",
   "execution_count": null,
   "id": "ee576b1f",
   "metadata": {},
   "outputs": [
    {
     "name": "stdout",
     "output_type": "stream",
     "text": [
      "Exact NN index: [219 898 593]\n",
      "Exact NN jarak: [0.         1.36915938 2.27931544]\n",
      "Waktu Exact: 1.6971 ms\n"
     ]
    },
    {
     "ename": "",
     "evalue": "",
     "output_type": "error",
     "traceback": [
      "\u001b[1;31mThe Kernel crashed while executing code in the current cell or a previous cell. \n",
      "\u001b[1;31mPlease review the code in the cell(s) to identify a possible cause of the failure. \n",
      "\u001b[1;31mClick <a href='https://aka.ms/vscodeJupyterKernelCrash'>here</a> for more info. \n",
      "\u001b[1;31mView Jupyter <a href='command:jupyter.viewOutput'>log</a> for further details."
     ]
    }
   ],
   "source": [
    "# Compute Exact NN Using Brute Force\n",
    "# It will visit the data one by one\n",
    "start = time.time()\n",
    "distances = np.linalg.norm(X - query, axis=1)\n",
    "idx_exact = np.argsort(distances)[:3]  # ambil 3 terdekat\n",
    "time_exact = time.time() - start\n",
    "\n",
    "print(\"Exact NN index:\", idx_exact)\n",
    "print(\"Exact NN jarak:\", distances[idx_exact])\n",
    "print(\"Waktu Exact:\", round(time_exact * 1000, 4), \"ms\")\n"
   ]
  },
  {
   "cell_type": "markdown",
   "id": "c52064a3",
   "metadata": {},
   "source": [
    "## Step 4 - Nearest Neighbour with Annoy"
   ]
  },
  {
   "cell_type": "code",
   "execution_count": null,
   "id": "29cc9bcd",
   "metadata": {},
   "outputs": [],
   "source": [
    "# ANNOY 3 Tree\n",
    "f = 2  # dimensi\n",
    "t = AnnoyIndex(f, \"euclidean\")\n",
    "for i, vec in enumerate(X):\n",
    "    t.add_item(i, vec)\n",
    "\n",
    "t.build(3)  # 3 trees\n",
    "\n",
    "start = time.time()\n",
    "idx_ann = t.get_nns_by_vector(query, 3)  # find 3 NN\n",
    "time_ann = time.time() - start\n",
    "\n",
    "print(\"\\nAnnoy NN index:\", idx_ann)\n",
    "print(\"Annoy NN jarak:\", [np.linalg.norm(X[i] - query) for i in idx_ann])\n",
    "print(\"Waktu Annoy:\", round(time_ann * 1000, 4), \"ms\")\n"
   ]
  },
  {
   "cell_type": "markdown",
   "id": "259a1981",
   "metadata": {},
   "source": [
    "## Step 5 - Visualize the NN Results"
   ]
  },
  {
   "cell_type": "code",
   "execution_count": null,
   "id": "80fed328",
   "metadata": {},
   "outputs": [],
   "source": [
    "# Visualize\n",
    "# Knowing the NN produced by Exact NN and ANNOY\n",
    "plt.figure(figsize=(6, 6))\n",
    "plt.scatter(X[:, 0], X[:, 1], c=\"lightgray\", s=20, label=\"Dataset\")\n",
    "plt.scatter(query[0], query[1], c=\"red\", marker=\"x\", s=100, label=\"Query\")\n",
    "\n",
    "# Exact NN ditandai biru\n",
    "plt.scatter(X[idx_exact, 0], X[idx_exact, 1], c=\"blue\", s=80, label=\"Exact NN\")\n",
    "\n",
    "# Annoy NN ditandai hijau\n",
    "plt.scatter(X[idx_ann, 0], X[idx_ann, 1], c=\"green\", s=50, marker=\"s\", label=\"Annoy NN\")\n",
    "\n",
    "plt.legend()\n",
    "plt.title(\"Exact NN vs Annoy NN (3 trees)\")\n",
    "plt.show()\n"
   ]
  }
 ],
 "metadata": {
  "kernelspec": {
   "display_name": "Python 3",
   "language": "python",
   "name": "python3"
  },
  "language_info": {
   "codemirror_mode": {
    "name": "ipython",
    "version": 3
   },
   "file_extension": ".py",
   "mimetype": "text/x-python",
   "name": "python",
   "nbconvert_exporter": "python",
   "pygments_lexer": "ipython3",
   "version": "3.13.5"
  }
 },
 "nbformat": 4,
 "nbformat_minor": 5
}
