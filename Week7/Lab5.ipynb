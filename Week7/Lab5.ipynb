{
 "cells": [
  {
   "cell_type": "markdown",
   "id": "ca1556e3",
   "metadata": {},
   "source": [
    "## Import Libraries"
   ]
  },
  {
   "cell_type": "code",
   "execution_count": null,
   "id": "9f55ab89",
   "metadata": {},
   "outputs": [
    {
     "ename": "",
     "evalue": "",
     "output_type": "error",
     "traceback": [
      "\u001b[1;31mThe Kernel crashed while executing code in the current cell or a previous cell. \n",
      "\u001b[1;31mPlease review the code in the cell(s) to identify a possible cause of the failure. \n",
      "\u001b[1;31mClick <a href='https://aka.ms/vscodeJupyterKernelCrash'>here</a> for more info. \n",
      "\u001b[1;31mView Jupyter <a href='command:jupyter.viewOutput'>log</a> for further details."
     ]
    }
   ],
   "source": [
    "import numpy as np\n",
    "import time\n",
    "import faiss\n",
    "from annoy import AnnoyIndex\n",
    "import hnswlib\n",
    "import matplotlib.pyplot as plt"
   ]
  },
  {
   "cell_type": "code",
   "execution_count": null,
   "id": "0fd526e8",
   "metadata": {},
   "outputs": [],
   "source": [
    "# -------------------------------\n",
    "# Dataset random\n",
    "# -------------------------------\n",
    "d = 128  # dimensi\n",
    "nb = 100000  # jumlah database vector\n",
    "nq = 1000  # jumlah query\n",
    "\n",
    "np.random.seed(42)\n",
    "xb = np.random.random((nb, d)).astype(\"float32\")\n",
    "xq = np.random.random((nq, d)).astype(\"float32\")\n"
   ]
  },
  {
   "cell_type": "code",
   "execution_count": null,
   "id": "aa283a3f",
   "metadata": {},
   "outputs": [],
   "source": [
    "# -------------------------------\n",
    "# Ground truth dengan FAISS brute force\n",
    "# -------------------------------\n",
    "index_flat = faiss.IndexFlatL2(d)\n",
    "index_flat.add(xb)\n",
    "k = 10\n",
    "_, gt_idx = index_flat.search(xq, k)\n",
    "\n",
    "\n",
    "# -------------------------------\n",
    "# Fungsi recall\n",
    "# -------------------------------\n",
    "def recall_at_k(I_pred, I_gt, k):\n",
    "    correct = 0\n",
    "    for i in range(len(I_pred)):\n",
    "        correct += len(set(I_pred[i][:k]) & set(I_gt[i][:k]))\n",
    "    return correct / (len(I_pred) * k)\n"
   ]
  },
  {
   "cell_type": "code",
   "execution_count": null,
   "id": "cb27ee57",
   "metadata": {},
   "outputs": [],
   "source": [
    "# -------------------------------\n",
    "# Benchmark Annoy\n",
    "# -------------------------------\n",
    "def run_annoy(xb, xq, n_trees=10, search_k=1000, k=10):\n",
    "    f = xb.shape[1]\n",
    "    index = AnnoyIndex(f, \"euclidean\")\n",
    "    for i, v in enumerate(xb):\n",
    "        index.add_item(i, v)\n",
    "    index.build(n_trees)\n",
    "\n",
    "    start = time.time()\n",
    "    I = [index.get_nns_by_vector(v, k, search_k=search_k) for v in xq]\n",
    "    elapsed = (time.time() - start) * 1000 / len(xq)  # ms/query\n",
    "    rec = recall_at_k(I, gt_idx, k)\n",
    "    return rec, elapsed\n"
   ]
  },
  {
   "cell_type": "code",
   "execution_count": null,
   "id": "526baae2",
   "metadata": {},
   "outputs": [],
   "source": [
    "# -------------------------------\n",
    "# Benchmark FAISS IVF\n",
    "# -------------------------------\n",
    "def run_faiss(xb, xq, nlist=100, nprobe=10, k=10):\n",
    "    quantizer = faiss.IndexFlatL2(d)\n",
    "    index = faiss.IndexIVFFlat(quantizer, d, nlist, faiss.METRIC_L2)\n",
    "    index.train(xb)\n",
    "    index.add(xb)\n",
    "\n",
    "    index.nprobe = nprobe\n",
    "    start = time.time()\n",
    "    _, I = index.search(xq, k)\n",
    "    elapsed = (time.time() - start) * 1000 / len(xq)\n",
    "    rec = recall_at_k(I, gt_idx, k)\n",
    "    return rec, elapsed\n"
   ]
  },
  {
   "cell_type": "markdown",
   "id": "0c25a0e2",
   "metadata": {},
   "source": []
  },
  {
   "cell_type": "code",
   "execution_count": null,
   "id": "6eaf9fa4",
   "metadata": {},
   "outputs": [],
   "source": [
    "# -------------------------------\n",
    "# Benchmark HNSW\n",
    "# -------------------------------\n",
    "def run_hnsw(xb, xq, ef=100, M=16, k=10):\n",
    "    num_elements = xb.shape[0]\n",
    "    p = hnswlib.Index(space=\"l2\", dim=d)\n",
    "    p.init_index(max_elements=num_elements, ef_construction=200, M=M)\n",
    "    p.add_items(xb)\n",
    "    p.set_ef(ef)\n",
    "\n",
    "    start = time.time()\n",
    "    I, _ = p.knn_query(xq, k)\n",
    "    elapsed = (time.time() - start) * 1000 / len(xq)\n",
    "    rec = recall_at_k(I, gt_idx, k)\n",
    "    return rec, elapsed\n"
   ]
  },
  {
   "cell_type": "code",
   "execution_count": null,
   "id": "73da9a6d",
   "metadata": {},
   "outputs": [],
   "source": [
    "# -------------------------------\n",
    "# Jalankan benchmark dengan beberapa parameter\n",
    "# -------------------------------\n",
    "results = {\"Annoy\": [], \"Faiss\": [], \"HNSW\": []}\n",
    "\n",
    "# Annoy\n",
    "for sk in [200, 500, 1000, 2000]:\n",
    "    rec, t = run_annoy(xb, xq, n_trees=10, search_k=sk)\n",
    "    results[\"Annoy\"].append((rec, t))\n",
    "\n",
    "# FAISS\n",
    "for npb in [1, 5, 10, 20]:\n",
    "    rec, t = run_faiss(xb, xq, nlist=100, nprobe=npb)\n",
    "    results[\"Faiss\"].append((rec, t))\n",
    "\n",
    "# HNSW\n",
    "for ef in [50, 100, 200, 400]:\n",
    "    rec, t = run_hnsw(xb, xq, ef=ef)\n",
    "    results[\"HNSW\"].append((rec, t))\n"
   ]
  },
  {
   "cell_type": "code",
   "execution_count": null,
   "id": "add03dd1",
   "metadata": {},
   "outputs": [],
   "source": [
    "# -------------------------------\n",
    "# Visualisasi trade-off\n",
    "# -------------------------------\n",
    "plt.figure(figsize=(8, 6))\n",
    "for label, color in zip(results.keys(), [\"blue\", \"green\", \"red\"]):\n",
    "    recall, qtime = zip(*results[label])\n",
    "    plt.plot(recall, qtime, marker=\"o\", label=label, color=color)\n",
    "\n",
    "plt.xlabel(\"Recall\")\n",
    "plt.ylabel(\"Query Time (ms/query, log scale)\")\n",
    "plt.yscale(\"log\")\n",
    "plt.gca().invert_yaxis()  # invert Y, makin kanan makin turun\n",
    "plt.title(\"ANN Benchmark (Annoy vs Faiss vs HNSW)\")\n",
    "plt.legend()\n",
    "plt.grid(True, which=\"both\", ls=\"--\", alpha=0.6)\n",
    "plt.show()\n"
   ]
  }
 ],
 "metadata": {
  "kernelspec": {
   "display_name": "machine-learning-kuliah",
   "language": "python",
   "name": "python3"
  },
  "language_info": {
   "codemirror_mode": {
    "name": "ipython",
    "version": 3
   },
   "file_extension": ".py",
   "mimetype": "text/x-python",
   "name": "python",
   "nbconvert_exporter": "python",
   "pygments_lexer": "ipython3",
   "version": "3.13.5"
  }
 },
 "nbformat": 4,
 "nbformat_minor": 5
}
