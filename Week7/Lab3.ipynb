{
 "cells": [
  {
   "cell_type": "markdown",
   "id": "37c7ab95",
   "metadata": {},
   "source": [
    "## Step 1 - Install HNSW Library"
   ]
  },
  {
   "cell_type": "markdown",
   "id": "44399efb",
   "metadata": {},
   "source": [
    "!pip install hnswlib"
   ]
  },
  {
   "cell_type": "markdown",
   "id": "d7e160c5",
   "metadata": {},
   "source": [
    "## Step 2 - Import Libraries"
   ]
  },
  {
   "cell_type": "code",
   "execution_count": 1,
   "id": "22fbea79",
   "metadata": {},
   "outputs": [],
   "source": [
    "import hnswlib\n",
    "import numpy as np\n",
    "import time\n",
    "from sklearn.neighbors import NearestNeighbors"
   ]
  },
  {
   "cell_type": "markdown",
   "id": "aa7c3d69",
   "metadata": {},
   "source": [
    "## Step 3 - Create a Dummy Dataset"
   ]
  },
  {
   "cell_type": "code",
   "execution_count": 2,
   "id": "3145bf7f",
   "metadata": {},
   "outputs": [],
   "source": [
    "# Build Dummy Dataset\n",
    "num_elements = 1000\n",
    "dim = 2\n",
    "data = np.random.random((num_elements, dim)).astype(np.float32)\n",
    "\n",
    "# Query point\n",
    "query = np.array([[0.5, 0.5]], dtype=np.float32)\n",
    "k = 5  # cari 5 tetangga terdekat\n"
   ]
  },
  {
   "cell_type": "markdown",
   "id": "d1fa5c41",
   "metadata": {},
   "source": [
    "## Step 4 - Build Exact NN Model"
   ]
  },
  {
   "cell_type": "code",
   "execution_count": 3,
   "id": "b18c9ffc",
   "metadata": {},
   "outputs": [
    {
     "name": "stdout",
     "output_type": "stream",
     "text": [
      "=== Exact NN ===\n",
      "Indices: [[983 185 783 907 133]]\n",
      "Distances: [[0.00662806 0.00799448 0.03164594 0.03176652 0.03218573]]\n",
      "Waktu: 0.23702096939086914 s\n"
     ]
    }
   ],
   "source": [
    "# Build NN Model\n",
    "nn = NearestNeighbors(n_neighbors=k, algorithm=\"brute\", metric=\"euclidean\")\n",
    "nn.fit(data)\n",
    "\n",
    "# Compute time performace\n",
    "start = time.time()\n",
    "distances, indices = nn.kneighbors(query)\n",
    "end = time.time()\n",
    "\n",
    "print(\"=== Exact NN ===\")\n",
    "print(\"Indices:\", indices)\n",
    "print(\"Distances:\", distances)\n",
    "print(\"Waktu:\", end - start, \"s\")\n"
   ]
  },
  {
   "cell_type": "markdown",
   "id": "4a1c7e99",
   "metadata": {},
   "source": [
    "## Step 5 - Build HNSW Model"
   ]
  },
  {
   "cell_type": "code",
   "execution_count": 4,
   "id": "c9e9dab1",
   "metadata": {},
   "outputs": [
    {
     "name": "stdout",
     "output_type": "stream",
     "text": [
      "\n",
      "=== HNSW ===\n",
      "Indices: [[983 185 783 907 133]]\n",
      "Distances: [[4.3931206e-05 6.3911779e-05 1.0014654e-03 1.0091120e-03 1.0359214e-03]]\n",
      "Waktu: 8.702278137207031e-05 s\n"
     ]
    }
   ],
   "source": [
    "# Initiate Index\n",
    "p = hnswlib.Index(space=\"l2\", dim=dim)\n",
    "\n",
    "# Define Max Elements\n",
    "p.init_index(max_elements=num_elements, ef_construction=100, M=16)\n",
    "\n",
    "# Add Data\n",
    "p.add_items(data)\n",
    "\n",
    "# Set searching parameter\n",
    "p.set_ef(50)  # tradeoff speed vs accuracy\n",
    "\n",
    "start = time.time()\n",
    "labels, distances = p.knn_query(query, k=k)\n",
    "end = time.time()\n",
    "\n",
    "print(\"\\n=== HNSW ===\")\n",
    "print(\"Indices:\", labels)\n",
    "print(\"Distances:\", distances)\n",
    "print(\"Waktu:\", end - start, \"s\")\n"
   ]
  }
 ],
 "metadata": {
  "kernelspec": {
   "display_name": "machine-learning-kuliah",
   "language": "python",
   "name": "python3"
  },
  "language_info": {
   "codemirror_mode": {
    "name": "ipython",
    "version": 3
   },
   "file_extension": ".py",
   "mimetype": "text/x-python",
   "name": "python",
   "nbconvert_exporter": "python",
   "pygments_lexer": "ipython3",
   "version": "3.13.5"
  }
 },
 "nbformat": 4,
 "nbformat_minor": 5
}
