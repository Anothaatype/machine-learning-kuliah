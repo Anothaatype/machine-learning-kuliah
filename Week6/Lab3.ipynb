{
 "cells": [
  {
   "cell_type": "markdown",
   "id": "cac7f142",
   "metadata": {},
   "source": [
    "# LAB3 are connected to LAB2 so the code are inside the LAB2"
   ]
  },
  {
   "cell_type": "markdown",
   "id": "842f7496",
   "metadata": {},
   "source": []
  }
 ],
 "metadata": {
  "language_info": {
   "name": "python"
  }
 },
 "nbformat": 4,
 "nbformat_minor": 5
}
